{
  "cells": [
    {
      "cell_type": "markdown",
      "metadata": {
        "id": "view-in-github",
        "colab_type": "text"
      },
      "source": [
        "<a href=\"https://colab.research.google.com/github/daisysong76/AI-LLM-Computer-vision/blob/main/MobileNetV2_Skin_Tone_Classification.ipynb\" target=\"_parent\"><img src=\"https://colab.research.google.com/assets/colab-badge.svg\" alt=\"Open In Colab\"/></a>"
      ]
    },
    {
      "cell_type": "code",
      "execution_count": 1,
      "metadata": {
        "id": "381EuqNFvMl9"
      },
      "outputs": [],
      "source": [
        "import os\n",
        "import numpy as np\n",
        "import tensorflow as tf\n",
        "from sklearn.model_selection import train_test_split\n",
        "from sklearn.metrics import confusion_matrix, classification_report\n",
        "import matplotlib.pyplot as plt\n",
        "from tensorflow.keras.models import Sequential\n",
        "from tensorflow.keras.layers import GlobalAveragePooling2D, Dense, Dropout\n",
        "from tensorflow.keras.applications import MobileNetV2\n",
        "from tensorflow.keras.optimizers import Adam\n",
        "from tensorflow.keras.callbacks import EarlyStopping, ReduceLROnPlateau"
      ]
    },
    {
      "cell_type": "code",
      "execution_count": 2,
      "metadata": {
        "id": "6cKMK2fHK3aW"
      },
      "outputs": [],
      "source": [
        "np.random.seed(42)\n",
        "tf.random.set_seed(42)"
      ]
    },
    {
      "cell_type": "code",
      "execution_count": 14,
      "metadata": {
        "id": "0904jqVyvQn0"
      },
      "outputs": [],
      "source": [
        "dataset_path = '/content/drive/MyDrive/AI4ALL/Train/'\n",
        "input_shape = (90, 120, 3)\n",
        "classes = ['Fair_light', 'Medium_tane', 'Dark_deep']\n",
        "EPOCHS = 50  # Increase the number of epochs\n",
        "BS = 32\n"
      ]
    },
    {
      "cell_type": "code",
      "execution_count": 15,
      "metadata": {
        "id": "3qPicjD_0oj8"
      },
      "outputs": [],
      "source": [
        "data = []\n",
        "labels = []"
      ]
    },
    {
      "cell_type": "code",
      "source": [
        "from google.colab import drive\n",
        "drive.mount('/content/drive')"
      ],
      "metadata": {
        "colab": {
          "base_uri": "https://localhost:8080/"
        },
        "id": "qhiGOmiHP7Ag",
        "outputId": "220602d5-85d8-4532-dc5e-3c35054b3ede"
      },
      "execution_count": 9,
      "outputs": [
        {
          "output_type": "stream",
          "name": "stdout",
          "text": [
            "Mounted at /content/drive\n"
          ]
        }
      ]
    },
    {
      "cell_type": "code",
      "execution_count": 18,
      "metadata": {
        "id": "xZ-kabod0pus",
        "colab": {
          "base_uri": "https://localhost:8080/"
        },
        "outputId": "19b75033-2578-4a7a-9aa7-c05fd3e4e68a"
      },
      "outputs": [
        {
          "output_type": "stream",
          "name": "stdout",
          "text": [
            "F1.jpg\n",
            "F22.jpg\n",
            "F26.jpg\n",
            "F41.jpg\n",
            "F33.jpg\n",
            "F10.jpg\n",
            "F25.jpg\n",
            "F34.jpg\n",
            "F24.jpg\n",
            "F19.jpg\n",
            "F13.jpg\n",
            "F43.jpg\n",
            "F38.jpg\n",
            "F31.jpg\n",
            "F16.jpg\n",
            "F27.jpg\n",
            "F20.jpg\n",
            "F17.jpg\n",
            "F40.jpg\n",
            "F37.jpg\n",
            "F29.jpg\n",
            "F21.jpg\n",
            "F18.jpg\n",
            "F12.jpg\n",
            "F100.jpg\n",
            "F30.jpg\n",
            "F23.jpg\n",
            "F2.jpg\n",
            "F39.jpg\n",
            "F36.jpg\n",
            "F35.jpg\n",
            "F3.jpg\n",
            "F32.jpg\n",
            "F44.jpg\n",
            "F4.jpg\n",
            "F28.jpg\n",
            "F45.jpg\n",
            "F42.jpg\n",
            "F11.jpg\n",
            "F14.jpg\n",
            "F15.jpg\n",
            "F70.jpg\n",
            "F56.jpg\n",
            "F55.jpg\n",
            "F91.jpg\n",
            "F85.jpg\n",
            "F96.jpg\n",
            "F52.jpg\n",
            "F75.jpg\n",
            "F46.jpg\n",
            "F61.jpg\n",
            "F82.jpg\n",
            "F77.jpg\n",
            "F88.jpg\n",
            "F80.jpg\n",
            "F63.jpg\n",
            "F60.jpg\n",
            "F90.jpg\n",
            "F58.jpg\n",
            "F54.jpg\n",
            "F99.jpg\n",
            "F86.jpg\n",
            "F9.jpg\n",
            "F74.jpg\n",
            "F98.jpg\n",
            "F95.jpg\n",
            "F94.jpg\n",
            "F62.jpg\n",
            "F6.jpg\n",
            "F67.jpg\n",
            "F8.jpg\n",
            "F69.jpg\n",
            "F65.jpg\n",
            "F76.jpg\n",
            "F71.jpg\n",
            "F59.jpg\n",
            "F78.jpg\n",
            "F89.jpg\n",
            "F50.jpg\n",
            "F48.jpg\n",
            "F49.jpg\n",
            "F68.jpg\n",
            "F47.jpg\n",
            "F73.jpg\n",
            "F93.jpg\n",
            "F53.jpg\n",
            "F7.jpg\n",
            "F72.jpg\n",
            "F66.jpg\n",
            "F81.jpg\n",
            "F97.jpg\n",
            "F92.jpg\n",
            "F57.jpg\n",
            "F87.jpg\n",
            "F5.jpg\n",
            "F79.jpg\n",
            "F84.jpg\n",
            "F64.jpg\n",
            "F51.jpg\n",
            "F83.jpg\n",
            "M65 (2).jpg\n",
            "M31 (1).jpg\n",
            "M35 (2).jpg\n",
            "M52.jpg\n",
            "M72 (2).jpg\n",
            "M37 (2).jpg\n",
            "M22 (2).jpg\n",
            "M70 (2).jpg\n",
            "M4.jpg\n",
            "M18 (1).jpg\n",
            "M45 (2).jpg\n",
            "M24 (1).jpg\n",
            "M35 (1).jpg\n",
            "M88.jpg\n",
            "M26 (1).jpg\n",
            "M47.jpg\n",
            "M33 (2).jpg\n",
            "M99 (2).jpg\n",
            "M25 (1).jpg\n",
            "M28.jpg\n",
            "M79 (2).jpg\n",
            "M70 (1).jpg\n",
            "M9 (2).jpg\n",
            "M86 (2).jpg\n",
            "M27 (1).jpg\n",
            "M26.jpg\n",
            "M30 (1).jpg\n",
            "M50 (2).jpg\n",
            "M48.jpg\n",
            "M19 (1).jpg\n",
            "M15.jpg\n",
            "M49.jpg\n",
            "M22 (1).jpg\n",
            "M40.jpg\n",
            "M95.jpg\n",
            "M50 (1).jpg\n",
            "M79 (1).jpg\n",
            "M66 (2).jpg\n",
            "M22.jpg\n",
            "M34 (2).jpg\n",
            "M66 (1).jpg\n",
            "M68.jpg\n",
            "M91.jpg\n",
            "M34 (1).jpg\n",
            "M11.jpg\n",
            "M72 (1).jpg\n",
            "M96.jpg\n",
            "M44 (2).jpg\n",
            "M58 (2).jpg\n",
            "M2.jpg\n",
            "M37 (1).jpg\n",
            "M64 (2).jpg\n",
            "M62.jpg\n",
            "M71 (2).jpg\n",
            "M72.jpg\n",
            "M36 (2).jpg\n",
            "M6.jpg\n",
            "M12.jpg\n",
            "M42.jpg\n",
            "M33 (1).jpg\n",
            "M94.jpg\n",
            "M90.jpg\n",
            "M45 (1).jpg\n",
            "M18.jpg\n",
            "M20 (2).jpg\n",
            "M78 (2).jpg\n",
            "M69.jpg\n",
            "M20 (1).jpg\n",
            "M58 (1).jpg\n",
            "M36 (1).jpg\n",
            "M78 (1).jpg\n",
            "M97 (2).jpg\n",
            "M93 (2).jpg\n",
            "M7.jpg\n",
            "M32 (1).jpg\n",
            "M35.jpg\n",
            "M10.jpg\n",
            "M77.jpg\n",
            "M71 (1).jpg\n",
            "M98 (1).jpg\n",
            "M33.jpg\n",
            "M74.jpg\n",
            "M78.jpg\n",
            "M58.jpg\n",
            "M16.jpg\n",
            "M87 (2).jpg\n",
            "M100.jpg\n",
            "M51 (2).jpg\n",
            "M9 (1).jpg\n",
            "M59 (2).jpg\n",
            "M80.jpg\n",
            "M61.jpg\n",
            "M87 (1).jpg\n",
            "M56.jpg\n",
            "M23 (2).jpg\n",
            "M19.jpg\n",
            "M44 (1).jpg\n",
            "M36.jpg\n",
            "M34.jpg\n",
            "M23 (1).jpg\n",
            "M92.jpg\n",
            "M98.jpg\n",
            "M93 (1).jpg\n",
            "M67.jpg\n",
            "M64 (1).jpg\n",
            "M3.jpg\n",
            "M23.jpg\n",
            "M53.jpg\n",
            "M51 (1).jpg\n",
            "M60.jpg\n",
            "M27.jpg\n",
            "M31.jpg\n",
            "M86 (1).jpg\n",
            "M81.jpg\n",
            "M66.jpg\n",
            "M29.jpg\n",
            "M24.jpg\n",
            "M63.jpg\n",
            "M1.jpg\n",
            "M9.jpg\n",
            "M85.jpg\n",
            "M32.jpg\n",
            "M17.jpg\n",
            "M82.jpg\n",
            "M46.jpg\n",
            "M73 (1).jpg\n",
            "M97 (1).jpg\n",
            "M87.jpg\n",
            "M99 (1).jpg\n",
            "M65 (1).jpg\n",
            "M45.jpg\n",
            "M89.jpg\n",
            "M20.jpg\n",
            "M83.jpg\n",
            "M8 (2).jpg\n",
            "M51.jpg\n",
            "M8 (1).jpg\n",
            "M93.jpg\n",
            "M79.jpg\n",
            "M65.jpg\n",
            "M14.jpg\n",
            "M97.jpg\n",
            "M64.jpg\n",
            "M57.jpg\n",
            "M59 (1).jpg\n",
            "M39.jpg\n",
            "M44.jpg\n",
            "M75.jpg\n",
            "M84.jpg\n",
            "M73.jpg\n",
            "M21.jpg\n",
            "M37.jpg\n",
            "M71.jpg\n",
            "M30.jpg\n",
            "M25.jpg\n",
            "M55.jpg\n",
            "M86.jpg\n",
            "M5.jpg\n",
            "M76.jpg\n",
            "M8.jpg\n",
            "M41.jpg\n",
            "M59.jpg\n",
            "M54.jpg\n",
            "M70.jpg\n",
            "M99.jpg\n",
            "M38.jpg\n",
            "M43.jpg\n",
            "M13.jpg\n",
            "M50.jpg\n",
            "D53.jpg\n",
            "D76.jpg\n",
            "D80.jpg\n",
            "D70.jpg\n",
            "D89.jpg\n",
            "D41.jpg\n",
            "D52.jpg\n",
            "D59.jpg\n",
            "D38.jpg\n",
            "D94.jpg\n",
            "D8.jpg\n",
            "D51.jpg\n",
            "D35.jpg\n",
            "D13.jpg\n",
            "D98.jpg\n",
            "D24.jpg\n",
            "D32.jpg\n",
            "D91.jpg\n",
            "D46.jpg\n",
            "D85.jpg\n",
            "D93.jpg\n",
            "D73.jpg\n",
            "D69.jpg\n",
            "D60.jpg\n",
            "D68.jpg\n",
            "D77.jpg\n",
            "D2.jpg\n",
            "D75.jpg\n",
            "D33.jpg\n",
            "D37.jpg\n",
            "D74.jpg\n",
            "D72.jpg\n",
            "D3.jpg\n",
            "D65.jpg\n",
            "D57.jpg\n",
            "D36.jpg\n",
            "D61.jpg\n",
            "D47.jpg\n",
            "D30.jpg\n",
            "D55.jpg\n",
            "D99.jpg\n",
            "D21.jpg\n",
            "D66.jpg\n",
            "D48.jpg\n",
            "D20.jpg\n",
            "D81.jpg\n",
            "D44.jpg\n",
            "D49.jpg\n",
            "D14.jpg\n",
            "D26.jpg\n",
            "D27.jpg\n",
            "D63.jpg\n",
            "D58.jpg\n",
            "D96.jpg\n",
            "D6.jpg\n",
            "D71.jpg\n",
            "D39.jpg\n",
            "D40.jpg\n",
            "D87.jpg\n",
            "D7.jpg\n",
            "D15.jpg\n",
            "D43.jpg\n",
            "D42.jpg\n",
            "D9.jpg\n",
            "D23.jpg\n",
            "D11.jpg\n",
            "D45.jpg\n",
            "D88.jpg\n",
            "D29.jpg\n",
            "D67.jpg\n",
            "D19.jpg\n",
            "D62.jpg\n",
            "D17.jpg\n",
            "D54.jpg\n",
            "D86.jpg\n",
            "D34.jpg\n",
            "D83.jpg\n",
            "D90.jpg\n",
            "D82.jpg\n",
            "D4.jpg\n",
            "D79.jpg\n",
            "D97.jpg\n",
            "D56.jpg\n",
            "D18.jpg\n",
            "D31.jpg\n",
            "D5.jpg\n",
            "D92.jpg\n",
            "D78.jpg\n",
            "D84.jpg\n",
            "D12.jpg\n",
            "D100.jpg\n",
            "D64.jpg\n",
            "D1.jpg\n",
            "D22.jpg\n",
            "D16.jpg\n",
            "D95.jpg\n",
            "D50.jpg\n",
            "D25.jpg\n",
            "D10.jpg\n",
            "D28.jpg\n"
          ]
        }
      ],
      "source": [
        "for idx, class_name in enumerate(classes):\n",
        "    class_path = os.path.join(dataset_path, class_name)\n",
        "    if not os.path.exists(class_path):\n",
        "            print(f\"Directory not found: {class_path}\")\n",
        "\n",
        "    for filename in os.listdir(class_path):\n",
        "        image_path = os.path.join(class_path, filename)\n",
        "        print(filename)\n",
        "        image = tf.keras.preprocessing.image.load_img(image_path, target_size=input_shape[:2])\n",
        "        image = tf.keras.preprocessing.image.img_to_array(image)\n",
        "        image = tf.keras.applications.mobilenet_v2.preprocess_input(image)\n",
        "        data.append(image)\n",
        "        labels.append(idx)"
      ]
    },
    {
      "cell_type": "code",
      "source": [
        "for idx, class_name in enumerate(classes):  # Iterate over each class in the classes list\n",
        "    class_path = os.path.join(dataset_path, class_name)  # Construct the path to the directory containing images of the current class\n",
        "    for filename in os.listdir(class_path):  # Iterate over each image file in the class directory\n",
        "        image_path = os.path.join(class_path, filename)  # Construct the path to the current image file\n",
        "        image = tf.keras.preprocessing.image.load_img(image_path, target_size=input_shape[:2])  # Load the image and resize it to the target size\n",
        "        image = tf.keras.preprocessing.image.img_to_array(image)  # Convert the loaded image to a numpy array\n",
        "        image = tf.keras.applications.mobilenet_v2.preprocess_input(image)  # Preprocess the image array for MobileNetV2\n",
        "        data.append(image)  # Append the processed image array to the data list\n",
        "        labels.append(idx)  # Append the index of the class (acting as a label) to the labels list\n"
      ],
      "metadata": {
        "id": "7R2uE3yyPVAe"
      },
      "execution_count": 19,
      "outputs": []
    },
    {
      "cell_type": "code",
      "execution_count": 20,
      "metadata": {
        "id": "EshqDB9a0rrb"
      },
      "outputs": [],
      "source": [
        "data = np.array(data, dtype=\"float32\")\n",
        "labels = np.array(labels)"
      ]
    },
    {
      "cell_type": "code",
      "execution_count": 21,
      "metadata": {
        "id": "VPp3EkEdQ60Z"
      },
      "outputs": [],
      "source": [
        "trainX, testX, trainY, testY = train_test_split(data, labels, test_size=0.2, stratify=labels, random_state=42)"
      ]
    },
    {
      "cell_type": "code",
      "execution_count": 22,
      "metadata": {
        "id": "uyeyRm3T0215"
      },
      "outputs": [],
      "source": [
        "datagen = tf.keras.preprocessing.image.ImageDataGenerator(\n",
        "    rotation_range=20,\n",
        "    width_shift_range=0.1,\n",
        "    height_shift_range=0.1,\n",
        "    shear_range=0.2,\n",
        "    zoom_range=0.2,\n",
        "    horizontal_flip=True,\n",
        "    fill_mode='nearest')"
      ]
    },
    {
      "cell_type": "code",
      "execution_count": 23,
      "metadata": {
        "id": "OQqLXQ7qRBKs"
      },
      "outputs": [],
      "source": [
        "train_datagen = datagen.flow(trainX, trainY, batch_size=BS, shuffle=True)"
      ]
    },
    {
      "cell_type": "code",
      "execution_count": 24,
      "metadata": {
        "colab": {
          "base_uri": "https://localhost:8080/"
        },
        "id": "MmqSYh8_1N7s",
        "outputId": "aaf56bf1-d58e-48a2-e8cb-288647f955df"
      },
      "outputs": [
        {
          "output_type": "stream",
          "name": "stderr",
          "text": [
            "WARNING:tensorflow:`input_shape` is undefined or non-square, or `rows` is not in [96, 128, 160, 192, 224]. Weights for input shape (224, 224) will be loaded as the default.\n"
          ]
        },
        {
          "output_type": "stream",
          "name": "stdout",
          "text": [
            "Downloading data from https://storage.googleapis.com/tensorflow/keras-applications/mobilenet_v2/mobilenet_v2_weights_tf_dim_ordering_tf_kernels_1.0_224_no_top.h5\n",
            "9406464/9406464 [==============================] - 0s 0us/step\n"
          ]
        }
      ],
      "source": [
        "base_model = MobileNetV2(input_shape=input_shape, include_top=False, weights='imagenet')\n",
        "base_model.trainable = False"
      ]
    },
    {
      "cell_type": "code",
      "execution_count": 25,
      "metadata": {
        "colab": {
          "base_uri": "https://localhost:8080/"
        },
        "id": "wYh7DDzYyqA2",
        "outputId": "1b607e30-7f43-493f-d6d4-a7348e946b1b"
      },
      "outputs": [
        {
          "output_type": "stream",
          "name": "stderr",
          "text": [
            "WARNING:absl:`lr` is deprecated in Keras optimizer, please use `learning_rate` or use the legacy optimizer, e.g.,tf.keras.optimizers.legacy.Adam.\n"
          ]
        }
      ],
      "source": [
        "model = Sequential([\n",
        "    base_model,\n",
        "    GlobalAveragePooling2D(),\n",
        "    Dense(256, activation='relu'),\n",
        "    Dropout(0.4),\n",
        "    Dense(len(classes), activation='softmax')\n",
        "])\n",
        "\n",
        "model.compile(optimizer=Adam(lr=1e-4), loss='sparse_categorical_crossentropy', metrics=['accuracy'])"
      ]
    },
    {
      "cell_type": "code",
      "execution_count": 26,
      "metadata": {
        "id": "zz1NP9lCt5It"
      },
      "outputs": [],
      "source": [
        "lr_scheduler = ReduceLROnPlateau(factor=0.5, patience=3, min_lr=1e-6)\n",
        "early_stopping = EarlyStopping(monitor='val_loss', patience=5, restore_best_weights=True)"
      ]
    },
    {
      "cell_type": "code",
      "execution_count": 27,
      "metadata": {
        "colab": {
          "base_uri": "https://localhost:8080/"
        },
        "id": "qtxpm97pRNrD",
        "outputId": "b318ea59-dded-408c-96dd-3d784340e494"
      },
      "outputs": [
        {
          "output_type": "stream",
          "name": "stdout",
          "text": [
            "Epoch 1/50\n",
            "30/30 [==============================] - 18s 437ms/step - loss: 1.5478 - accuracy: 0.4598 - val_loss: 0.8893 - val_accuracy: 0.5579 - lr: 0.0010\n",
            "Epoch 2/50\n",
            "30/30 [==============================] - 11s 336ms/step - loss: 0.8269 - accuracy: 0.6270 - val_loss: 0.6858 - val_accuracy: 0.6777 - lr: 0.0010\n",
            "Epoch 3/50\n",
            "30/30 [==============================] - 10s 313ms/step - loss: 0.6856 - accuracy: 0.7010 - val_loss: 0.6158 - val_accuracy: 0.6983 - lr: 0.0010\n",
            "Epoch 4/50\n",
            "30/30 [==============================] - 11s 354ms/step - loss: 0.6694 - accuracy: 0.7074 - val_loss: 0.6284 - val_accuracy: 0.7025 - lr: 0.0010\n",
            "Epoch 5/50\n",
            "30/30 [==============================] - 11s 350ms/step - loss: 0.6150 - accuracy: 0.7331 - val_loss: 0.4614 - val_accuracy: 0.8058 - lr: 0.0010\n",
            "Epoch 6/50\n",
            "30/30 [==============================] - 11s 344ms/step - loss: 0.5652 - accuracy: 0.7631 - val_loss: 0.4365 - val_accuracy: 0.7851 - lr: 0.0010\n",
            "Epoch 7/50\n",
            "30/30 [==============================] - 11s 354ms/step - loss: 0.5168 - accuracy: 0.7771 - val_loss: 0.4665 - val_accuracy: 0.7934 - lr: 0.0010\n",
            "Epoch 8/50\n",
            "30/30 [==============================] - 10s 338ms/step - loss: 0.4742 - accuracy: 0.7996 - val_loss: 0.4466 - val_accuracy: 0.8182 - lr: 0.0010\n",
            "Epoch 9/50\n",
            "30/30 [==============================] - 11s 354ms/step - loss: 0.4662 - accuracy: 0.8178 - val_loss: 0.3324 - val_accuracy: 0.8760 - lr: 0.0010\n",
            "Epoch 10/50\n",
            "30/30 [==============================] - 10s 343ms/step - loss: 0.5067 - accuracy: 0.7899 - val_loss: 0.3982 - val_accuracy: 0.8264 - lr: 0.0010\n",
            "Epoch 11/50\n",
            "30/30 [==============================] - 12s 394ms/step - loss: 0.4185 - accuracy: 0.8349 - val_loss: 0.3185 - val_accuracy: 0.8884 - lr: 0.0010\n",
            "Epoch 12/50\n",
            "30/30 [==============================] - 11s 356ms/step - loss: 0.3676 - accuracy: 0.8458 - val_loss: 0.3177 - val_accuracy: 0.8471 - lr: 0.0010\n",
            "Epoch 13/50\n",
            "30/30 [==============================] - 10s 346ms/step - loss: 0.3502 - accuracy: 0.8478 - val_loss: 0.3096 - val_accuracy: 0.8760 - lr: 0.0010\n",
            "Epoch 14/50\n",
            "30/30 [==============================] - 12s 394ms/step - loss: 0.3474 - accuracy: 0.8692 - val_loss: 0.2729 - val_accuracy: 0.8843 - lr: 0.0010\n",
            "Epoch 15/50\n",
            "30/30 [==============================] - 11s 354ms/step - loss: 0.3410 - accuracy: 0.8692 - val_loss: 0.2375 - val_accuracy: 0.9215 - lr: 0.0010\n",
            "Epoch 16/50\n",
            "30/30 [==============================] - 10s 341ms/step - loss: 0.3599 - accuracy: 0.8457 - val_loss: 0.2412 - val_accuracy: 0.9132 - lr: 0.0010\n",
            "Epoch 17/50\n",
            "30/30 [==============================] - 11s 356ms/step - loss: 0.3170 - accuracy: 0.8810 - val_loss: 0.2145 - val_accuracy: 0.9132 - lr: 0.0010\n",
            "Epoch 18/50\n",
            "30/30 [==============================] - 11s 353ms/step - loss: 0.2824 - accuracy: 0.8864 - val_loss: 0.2020 - val_accuracy: 0.9174 - lr: 0.0010\n",
            "Epoch 19/50\n",
            "30/30 [==============================] - 11s 346ms/step - loss: 0.2699 - accuracy: 0.8960 - val_loss: 0.2055 - val_accuracy: 0.9091 - lr: 0.0010\n",
            "Epoch 20/50\n",
            "30/30 [==============================] - 12s 396ms/step - loss: 0.2574 - accuracy: 0.9035 - val_loss: 0.2187 - val_accuracy: 0.9008 - lr: 0.0010\n",
            "Epoch 21/50\n",
            "30/30 [==============================] - 10s 332ms/step - loss: 0.2757 - accuracy: 0.8885 - val_loss: 0.1922 - val_accuracy: 0.9215 - lr: 0.0010\n",
            "Epoch 22/50\n",
            "30/30 [==============================] - 10s 338ms/step - loss: 0.2845 - accuracy: 0.9003 - val_loss: 0.2434 - val_accuracy: 0.9050 - lr: 0.0010\n",
            "Epoch 23/50\n",
            "30/30 [==============================] - 11s 354ms/step - loss: 0.3264 - accuracy: 0.8617 - val_loss: 0.1976 - val_accuracy: 0.9174 - lr: 0.0010\n",
            "Epoch 24/50\n",
            "30/30 [==============================] - 10s 345ms/step - loss: 0.2618 - accuracy: 0.9025 - val_loss: 0.1812 - val_accuracy: 0.9174 - lr: 0.0010\n",
            "Epoch 25/50\n",
            "30/30 [==============================] - 12s 391ms/step - loss: 0.2412 - accuracy: 0.9185 - val_loss: 0.1297 - val_accuracy: 0.9587 - lr: 0.0010\n",
            "Epoch 26/50\n",
            "30/30 [==============================] - 11s 349ms/step - loss: 0.2225 - accuracy: 0.9250 - val_loss: 0.1407 - val_accuracy: 0.9545 - lr: 0.0010\n",
            "Epoch 27/50\n",
            "30/30 [==============================] - 12s 394ms/step - loss: 0.2108 - accuracy: 0.9218 - val_loss: 0.1522 - val_accuracy: 0.9463 - lr: 0.0010\n",
            "Epoch 28/50\n",
            "30/30 [==============================] - 11s 357ms/step - loss: 0.2039 - accuracy: 0.9260 - val_loss: 0.1295 - val_accuracy: 0.9587 - lr: 0.0010\n",
            "Epoch 29/50\n",
            "30/30 [==============================] - 22s 709ms/step - loss: 0.2122 - accuracy: 0.9240 - val_loss: 0.1107 - val_accuracy: 0.9752 - lr: 0.0010\n",
            "Epoch 30/50\n",
            "30/30 [==============================] - 11s 362ms/step - loss: 0.1945 - accuracy: 0.9303 - val_loss: 0.1209 - val_accuracy: 0.9380 - lr: 0.0010\n",
            "Epoch 31/50\n",
            "30/30 [==============================] - 10s 336ms/step - loss: 0.1890 - accuracy: 0.9346 - val_loss: 0.1207 - val_accuracy: 0.9628 - lr: 0.0010\n",
            "Epoch 32/50\n",
            "30/30 [==============================] - 10s 309ms/step - loss: 0.1735 - accuracy: 0.9443 - val_loss: 0.0928 - val_accuracy: 0.9793 - lr: 0.0010\n",
            "Epoch 33/50\n",
            "30/30 [==============================] - 11s 357ms/step - loss: 0.1889 - accuracy: 0.9357 - val_loss: 0.0892 - val_accuracy: 0.9669 - lr: 0.0010\n",
            "Epoch 34/50\n",
            "30/30 [==============================] - 9s 296ms/step - loss: 0.1986 - accuracy: 0.9282 - val_loss: 0.1043 - val_accuracy: 0.9587 - lr: 0.0010\n",
            "Epoch 35/50\n",
            "30/30 [==============================] - 11s 363ms/step - loss: 0.1805 - accuracy: 0.9357 - val_loss: 0.1286 - val_accuracy: 0.9711 - lr: 0.0010\n",
            "Epoch 36/50\n",
            "30/30 [==============================] - 12s 399ms/step - loss: 0.1925 - accuracy: 0.9303 - val_loss: 0.0889 - val_accuracy: 0.9752 - lr: 0.0010\n",
            "Epoch 37/50\n",
            "30/30 [==============================] - 9s 290ms/step - loss: 0.1717 - accuracy: 0.9271 - val_loss: 0.1057 - val_accuracy: 0.9752 - lr: 0.0010\n",
            "Epoch 38/50\n",
            "30/30 [==============================] - 12s 380ms/step - loss: 0.1971 - accuracy: 0.9325 - val_loss: 0.1023 - val_accuracy: 0.9628 - lr: 0.0010\n",
            "Epoch 39/50\n",
            "30/30 [==============================] - 12s 396ms/step - loss: 0.1782 - accuracy: 0.9303 - val_loss: 0.1269 - val_accuracy: 0.9504 - lr: 0.0010\n",
            "Epoch 40/50\n",
            "30/30 [==============================] - 11s 356ms/step - loss: 0.1859 - accuracy: 0.9346 - val_loss: 0.0738 - val_accuracy: 0.9835 - lr: 5.0000e-04\n",
            "Epoch 41/50\n",
            "30/30 [==============================] - 10s 333ms/step - loss: 0.1572 - accuracy: 0.9432 - val_loss: 0.0748 - val_accuracy: 0.9793 - lr: 5.0000e-04\n",
            "Epoch 42/50\n",
            "30/30 [==============================] - 11s 359ms/step - loss: 0.1495 - accuracy: 0.9475 - val_loss: 0.0612 - val_accuracy: 0.9835 - lr: 5.0000e-04\n",
            "Epoch 43/50\n",
            "30/30 [==============================] - 13s 419ms/step - loss: 0.1299 - accuracy: 0.9603 - val_loss: 0.0645 - val_accuracy: 0.9752 - lr: 5.0000e-04\n",
            "Epoch 44/50\n",
            "30/30 [==============================] - 11s 351ms/step - loss: 0.1192 - accuracy: 0.9571 - val_loss: 0.0656 - val_accuracy: 0.9876 - lr: 5.0000e-04\n",
            "Epoch 45/50\n",
            "30/30 [==============================] - 12s 389ms/step - loss: 0.1448 - accuracy: 0.9421 - val_loss: 0.0495 - val_accuracy: 0.9917 - lr: 5.0000e-04\n",
            "Epoch 46/50\n",
            "30/30 [==============================] - 11s 354ms/step - loss: 0.1185 - accuracy: 0.9614 - val_loss: 0.0496 - val_accuracy: 0.9876 - lr: 5.0000e-04\n",
            "Epoch 47/50\n",
            "30/30 [==============================] - 10s 337ms/step - loss: 0.1153 - accuracy: 0.9656 - val_loss: 0.0509 - val_accuracy: 0.9917 - lr: 5.0000e-04\n",
            "Epoch 48/50\n",
            "30/30 [==============================] - 10s 329ms/step - loss: 0.1185 - accuracy: 0.9646 - val_loss: 0.0503 - val_accuracy: 0.9917 - lr: 5.0000e-04\n",
            "Epoch 49/50\n",
            "30/30 [==============================] - 11s 360ms/step - loss: 0.1164 - accuracy: 0.9539 - val_loss: 0.0656 - val_accuracy: 0.9876 - lr: 2.5000e-04\n",
            "Epoch 50/50\n",
            "30/30 [==============================] - 10s 336ms/step - loss: 0.1108 - accuracy: 0.9678 - val_loss: 0.0423 - val_accuracy: 0.9959 - lr: 2.5000e-04\n"
          ]
        }
      ],
      "source": [
        "history = model.fit(\n",
        "    train_datagen,\n",
        "    steps_per_epoch=len(trainX) // BS,\n",
        "    validation_data=(testX, testY),\n",
        "    validation_steps=len(testX) // BS,\n",
        "    epochs=EPOCHS,\n",
        "    callbacks=[lr_scheduler, early_stopping]  # Add both callbacks\n",
        ")"
      ]
    },
    {
      "cell_type": "code",
      "execution_count": 28,
      "metadata": {
        "colab": {
          "base_uri": "https://localhost:8080/",
          "height": 450
        },
        "id": "iCO19CAJRZs_",
        "outputId": "030d0c66-b351-4502-d06f-8097fb859a37"
      },
      "outputs": [
        {
          "output_type": "display_data",
          "data": {
            "text/plain": [
              "<Figure size 640x480 with 1 Axes>"
            ],
            "image/png": "[encoded data removed]"
          },
          "metadata": {}
        }
      ],
      "source": [
        "plt.plot(history.history['loss'], label='train_loss')\n",
        "plt.plot(history.history['val_loss'], label='val_loss')\n",
        "plt.plot(history.history['accuracy'], label='train_acc')\n",
        "plt.plot(history.history['val_accuracy'], label='val_acc')\n",
        "plt.legend()\n",
        "plt.xlabel(\"Epoch\")\n",
        "plt.ylabel(\"Loss/Accuracy\")\n",
        "plt.show()"
      ]
    },
    {
      "cell_type": "code",
      "execution_count": 29,
      "metadata": {
        "colab": {
          "base_uri": "https://localhost:8080/"
        },
        "id": "RF6Bhu7d1P-L",
        "outputId": "db04d869-7931-4035-9e75-54fd20baff77"
      },
      "outputs": [
        {
          "output_type": "stream",
          "name": "stdout",
          "text": [
            "8/8 [==============================] - 3s 243ms/step\n",
            "Confusion Matrix:\n",
            "[[ 80   0   0]\n",
            " [  0 102   0]\n",
            " [  1   0  59]]\n",
            "Classification Report:\n",
            "              precision    recall  f1-score   support\n",
            "\n",
            "  Fair_light       0.99      1.00      0.99        80\n",
            " Medium_tane       1.00      1.00      1.00       102\n",
            "   Dark_deep       1.00      0.98      0.99        60\n",
            "\n",
            "    accuracy                           1.00       242\n",
            "   macro avg       1.00      0.99      1.00       242\n",
            "weighted avg       1.00      1.00      1.00       242\n",
            "\n"
          ]
        }
      ],
      "source": [
        "preds = model.predict(testX)\n",
        "y_pred = np.argmax(preds, axis=1)\n",
        "\n",
        "cm = confusion_matrix(testY, y_pred)\n",
        "print(\"Confusion Matrix:\")\n",
        "print(cm)\n",
        "\n",
        "print(\"Classification Report:\")\n",
        "print(classification_report(testY, y_pred, target_names=classes))"
      ]
    },
    {
      "cell_type": "code",
      "execution_count": 30,
      "metadata": {
        "colab": {
          "base_uri": "https://localhost:8080/"
        },
        "id": "N5UIM1bc4aZr",
        "outputId": "5b7c2991-b03b-444d-fbd9-672be71136d6"
      },
      "outputs": [
        {
          "output_type": "stream",
          "name": "stderr",
          "text": [
            "/usr/local/lib/python3.10/dist-packages/keras/src/engine/training.py:3103: UserWarning: You are saving your model as an HDF5 file via `model.save()`. This file format is considered legacy. We recommend using instead the native Keras format, e.g. `model.save('my_model.keras')`.\n",
            "  saving_api.save_model(\n"
          ]
        },
        {
          "output_type": "stream",
          "name": "stdout",
          "text": [
            "Model saved.\n"
          ]
        }
      ],
      "source": [
        "model.save('/content/drive/MyDrive/AI4ALL/Skin Tone Prediction/model.h5')\n",
        "print(\"Model saved.\")"
      ]
    }
  ],
  "metadata": {
    "colab": {
      "provenance": [],
      "include_colab_link": true
    },
    "kernelspec": {
      "display_name": "Python 3",
      "name": "python3"
    },
    "language_info": {
      "name": "python"
    }
  },
  "nbformat": 4,
  "nbformat_minor": 0
}