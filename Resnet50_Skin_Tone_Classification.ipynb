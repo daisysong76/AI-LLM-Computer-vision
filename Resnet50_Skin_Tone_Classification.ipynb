{
  "cells": [
    {
      "cell_type": "markdown",
      "metadata": {
        "id": "view-in-github",
        "colab_type": "text"
      },
      "source": [
        "<a href=\"https://colab.research.google.com/github/daisysong76/AI-LLM-Computer-vision/blob/main/Resnet50_Skin_Tone_Classification.ipynb\" target=\"_parent\"><img src=\"https://colab.research.google.com/assets/colab-badge.svg\" alt=\"Open In Colab\"/></a>"
      ]
    },
    {
      "cell_type": "code",
      "execution_count": 1,
      "metadata": {
        "id": "381EuqNFvMl9"
      },
      "outputs": [],
      "source": [
        "import os\n",
        "import numpy as np\n",
        "import tensorflow as tf\n",
        "from sklearn.model_selection import train_test_split\n",
        "from sklearn.metrics import confusion_matrix, classification_report\n",
        "import matplotlib.pyplot as plt\n",
        "from tensorflow.keras.models import Sequential\n",
        "from tensorflow.keras.layers import GlobalAveragePooling2D, Dense, Dropout\n",
        "from keras.applications import ResNet50\n",
        "from tensorflow.keras.optimizers import Adam\n",
        "from tensorflow.keras.callbacks import EarlyStopping, ReduceLROnPlateau"
      ]
    },
    {
      "cell_type": "code",
      "execution_count": 2,
      "metadata": {
        "id": "6cKMK2fHK3aW"
      },
      "outputs": [],
      "source": [
        "np.random.seed(42)\n",
        "tf.random.set_seed(42)"
      ]
    },
    {
      "cell_type": "code",
      "execution_count": 3,
      "metadata": {
        "id": "0904jqVyvQn0"
      },
      "outputs": [],
      "source": [
        "dataset_path = '/content/drive/MyDrive/AI4ALL/Train/'\n",
        "input_shape = (90, 120, 3)\n",
        "classes = ['Fair_light', 'Medium_tane', 'Dark_deep']\n",
        "EPOCHS = 50  # Increase the number of epochs\n",
        "BS = 32\n"
      ]
    },
    {
      "cell_type": "code",
      "execution_count": 4,
      "metadata": {
        "id": "3qPicjD_0oj8"
      },
      "outputs": [],
      "source": [
        "data = []\n",
        "labels = []"
      ]
    },
    {
      "cell_type": "code",
      "source": [
        "from google.colab import drive\n",
        "drive.mount('/content/drive')"
      ],
      "metadata": {
        "colab": {
          "base_uri": "https://localhost:8080/"
        },
        "id": "_QRYGmRIYLYb",
        "outputId": "580e19ea-48c3-4c77-928d-d6bc4cea6f39"
      },
      "execution_count": 9,
      "outputs": [
        {
          "output_type": "stream",
          "name": "stdout",
          "text": [
            "Mounted at /content/drive\n"
          ]
        }
      ]
    },
    {
      "cell_type": "code",
      "execution_count": 10,
      "metadata": {
        "id": "xZ-kabod0pus",
        "colab": {
          "base_uri": "https://localhost:8080/"
        },
        "outputId": "4b0dc0d1-2dec-4318-a869-9354b9070e59"
      },
      "outputs": [
        {
          "output_type": "stream",
          "name": "stdout",
          "text": [
            "F1.jpg\n",
            "F22.jpg\n",
            "F26.jpg\n",
            "F41.jpg\n",
            "F33.jpg\n",
            "F10.jpg\n",
            "F25.jpg\n",
            "F34.jpg\n",
            "F24.jpg\n",
            "F19.jpg\n",
            "F13.jpg\n",
            "F43.jpg\n",
            "F38.jpg\n",
            "F31.jpg\n",
            "F16.jpg\n",
            "F27.jpg\n",
            "F20.jpg\n",
            "F17.jpg\n",
            "F40.jpg\n",
            "F37.jpg\n",
            "F29.jpg\n",
            "F21.jpg\n",
            "F18.jpg\n",
            "F12.jpg\n",
            "F100.jpg\n",
            "F30.jpg\n",
            "F23.jpg\n",
            "F2.jpg\n",
            "F39.jpg\n",
            "F36.jpg\n",
            "F35.jpg\n",
            "F3.jpg\n",
            "F32.jpg\n",
            "F44.jpg\n",
            "F4.jpg\n",
            "F28.jpg\n",
            "F45.jpg\n",
            "F42.jpg\n",
            "F11.jpg\n",
            "F14.jpg\n",
            "F15.jpg\n",
            "F70.jpg\n",
            "F56.jpg\n",
            "F55.jpg\n",
            "F91.jpg\n",
            "F85.jpg\n",
            "F96.jpg\n",
            "F52.jpg\n",
            "F75.jpg\n",
            "F46.jpg\n",
            "F61.jpg\n",
            "F82.jpg\n",
            "F77.jpg\n",
            "F88.jpg\n",
            "F80.jpg\n",
            "F63.jpg\n",
            "F60.jpg\n",
            "F90.jpg\n",
            "F58.jpg\n",
            "F54.jpg\n",
            "F99.jpg\n",
            "F86.jpg\n",
            "F9.jpg\n",
            "F74.jpg\n",
            "F98.jpg\n",
            "F95.jpg\n",
            "F94.jpg\n",
            "F62.jpg\n",
            "F6.jpg\n",
            "F67.jpg\n",
            "F8.jpg\n",
            "F69.jpg\n",
            "F65.jpg\n",
            "F76.jpg\n",
            "F71.jpg\n",
            "F59.jpg\n",
            "F78.jpg\n",
            "F89.jpg\n",
            "F50.jpg\n",
            "F48.jpg\n",
            "F49.jpg\n",
            "F68.jpg\n",
            "F47.jpg\n",
            "F73.jpg\n",
            "F93.jpg\n",
            "F53.jpg\n",
            "F7.jpg\n",
            "F72.jpg\n",
            "F66.jpg\n",
            "F81.jpg\n",
            "F97.jpg\n",
            "F92.jpg\n",
            "F57.jpg\n",
            "F87.jpg\n",
            "F5.jpg\n",
            "F79.jpg\n",
            "F84.jpg\n",
            "F64.jpg\n",
            "F51.jpg\n",
            "F83.jpg\n",
            "M65 (2).jpg\n",
            "M31 (1).jpg\n",
            "M35 (2).jpg\n",
            "M52.jpg\n",
            "M72 (2).jpg\n",
            "M37 (2).jpg\n",
            "M22 (2).jpg\n",
            "M70 (2).jpg\n",
            "M4.jpg\n",
            "M18 (1).jpg\n",
            "M45 (2).jpg\n",
            "M24 (1).jpg\n",
            "M35 (1).jpg\n",
            "M88.jpg\n",
            "M26 (1).jpg\n",
            "M47.jpg\n",
            "M33 (2).jpg\n",
            "M99 (2).jpg\n",
            "M25 (1).jpg\n",
            "M28.jpg\n",
            "M79 (2).jpg\n",
            "M70 (1).jpg\n",
            "M9 (2).jpg\n",
            "M86 (2).jpg\n",
            "M27 (1).jpg\n",
            "M26.jpg\n",
            "M30 (1).jpg\n",
            "M50 (2).jpg\n",
            "M48.jpg\n",
            "M19 (1).jpg\n",
            "M15.jpg\n",
            "M49.jpg\n",
            "M22 (1).jpg\n",
            "M40.jpg\n",
            "M95.jpg\n",
            "M50 (1).jpg\n",
            "M79 (1).jpg\n",
            "M66 (2).jpg\n",
            "M22.jpg\n",
            "M34 (2).jpg\n",
            "M66 (1).jpg\n",
            "M68.jpg\n",
            "M91.jpg\n",
            "M34 (1).jpg\n",
            "M11.jpg\n",
            "M72 (1).jpg\n",
            "M96.jpg\n",
            "M44 (2).jpg\n",
            "M58 (2).jpg\n",
            "M2.jpg\n",
            "M37 (1).jpg\n",
            "M64 (2).jpg\n",
            "M62.jpg\n",
            "M71 (2).jpg\n",
            "M72.jpg\n",
            "M36 (2).jpg\n",
            "M6.jpg\n",
            "M12.jpg\n",
            "M42.jpg\n",
            "M33 (1).jpg\n",
            "M94.jpg\n",
            "M90.jpg\n",
            "M45 (1).jpg\n",
            "M18.jpg\n",
            "M20 (2).jpg\n",
            "M78 (2).jpg\n",
            "M69.jpg\n",
            "M20 (1).jpg\n",
            "M58 (1).jpg\n",
            "M36 (1).jpg\n",
            "M78 (1).jpg\n",
            "M97 (2).jpg\n",
            "M93 (2).jpg\n",
            "M7.jpg\n",
            "M32 (1).jpg\n",
            "M35.jpg\n",
            "M10.jpg\n",
            "M77.jpg\n",
            "M71 (1).jpg\n",
            "M98 (1).jpg\n",
            "M33.jpg\n",
            "M74.jpg\n",
            "M78.jpg\n",
            "M58.jpg\n",
            "M16.jpg\n",
            "M87 (2).jpg\n",
            "M100.jpg\n",
            "M51 (2).jpg\n",
            "M9 (1).jpg\n",
            "M59 (2).jpg\n",
            "M80.jpg\n",
            "M61.jpg\n",
            "M87 (1).jpg\n",
            "M56.jpg\n",
            "M23 (2).jpg\n",
            "M19.jpg\n",
            "M44 (1).jpg\n",
            "M36.jpg\n",
            "M34.jpg\n",
            "M23 (1).jpg\n",
            "M92.jpg\n",
            "M98.jpg\n",
            "M93 (1).jpg\n",
            "M67.jpg\n",
            "M64 (1).jpg\n",
            "M3.jpg\n",
            "M23.jpg\n",
            "M53.jpg\n",
            "M51 (1).jpg\n",
            "M60.jpg\n",
            "M27.jpg\n",
            "M31.jpg\n",
            "M86 (1).jpg\n",
            "M81.jpg\n",
            "M66.jpg\n",
            "M29.jpg\n",
            "M24.jpg\n",
            "M63.jpg\n",
            "M1.jpg\n",
            "M9.jpg\n",
            "M85.jpg\n",
            "M32.jpg\n",
            "M17.jpg\n",
            "M82.jpg\n",
            "M46.jpg\n",
            "M73 (1).jpg\n",
            "M97 (1).jpg\n",
            "M87.jpg\n",
            "M99 (1).jpg\n",
            "M65 (1).jpg\n",
            "M45.jpg\n",
            "M89.jpg\n",
            "M20.jpg\n",
            "M83.jpg\n",
            "M8 (2).jpg\n",
            "M51.jpg\n",
            "M8 (1).jpg\n",
            "M93.jpg\n",
            "M79.jpg\n",
            "M65.jpg\n",
            "M14.jpg\n",
            "M97.jpg\n",
            "M64.jpg\n",
            "M57.jpg\n",
            "M59 (1).jpg\n",
            "M39.jpg\n",
            "M44.jpg\n",
            "M75.jpg\n",
            "M84.jpg\n",
            "M73.jpg\n",
            "M21.jpg\n",
            "M37.jpg\n",
            "M71.jpg\n",
            "M30.jpg\n",
            "M25.jpg\n",
            "M55.jpg\n",
            "M86.jpg\n",
            "M5.jpg\n",
            "M76.jpg\n",
            "M8.jpg\n",
            "M41.jpg\n",
            "M59.jpg\n",
            "M54.jpg\n",
            "M70.jpg\n",
            "M99.jpg\n",
            "M38.jpg\n",
            "M43.jpg\n",
            "M13.jpg\n",
            "M50.jpg\n",
            "D53.jpg\n",
            "D76.jpg\n",
            "D80.jpg\n",
            "D70.jpg\n",
            "D89.jpg\n",
            "D41.jpg\n",
            "D52.jpg\n",
            "D59.jpg\n",
            "D38.jpg\n",
            "D94.jpg\n",
            "D8.jpg\n",
            "D51.jpg\n",
            "D35.jpg\n",
            "D13.jpg\n",
            "D98.jpg\n",
            "D24.jpg\n",
            "D32.jpg\n",
            "D91.jpg\n",
            "D46.jpg\n",
            "D85.jpg\n",
            "D93.jpg\n",
            "D73.jpg\n",
            "D69.jpg\n",
            "D60.jpg\n",
            "D68.jpg\n",
            "D77.jpg\n",
            "D2.jpg\n",
            "D75.jpg\n",
            "D33.jpg\n",
            "D37.jpg\n",
            "D74.jpg\n",
            "D72.jpg\n",
            "D3.jpg\n",
            "D65.jpg\n",
            "D57.jpg\n",
            "D36.jpg\n",
            "D61.jpg\n",
            "D47.jpg\n",
            "D30.jpg\n",
            "D55.jpg\n",
            "D99.jpg\n",
            "D21.jpg\n",
            "D66.jpg\n",
            "D48.jpg\n",
            "D20.jpg\n",
            "D81.jpg\n",
            "D44.jpg\n",
            "D49.jpg\n",
            "D14.jpg\n",
            "D26.jpg\n",
            "D27.jpg\n",
            "D63.jpg\n",
            "D58.jpg\n",
            "D96.jpg\n",
            "D6.jpg\n",
            "D71.jpg\n",
            "D39.jpg\n",
            "D40.jpg\n",
            "D87.jpg\n",
            "D7.jpg\n",
            "D15.jpg\n",
            "D43.jpg\n",
            "D42.jpg\n",
            "D9.jpg\n",
            "D23.jpg\n",
            "D11.jpg\n",
            "D45.jpg\n",
            "D88.jpg\n",
            "D29.jpg\n",
            "D67.jpg\n",
            "D19.jpg\n",
            "D62.jpg\n",
            "D17.jpg\n",
            "D54.jpg\n",
            "D86.jpg\n",
            "D34.jpg\n",
            "D83.jpg\n",
            "D90.jpg\n",
            "D82.jpg\n",
            "D4.jpg\n",
            "D79.jpg\n",
            "D97.jpg\n",
            "D56.jpg\n",
            "D18.jpg\n",
            "D31.jpg\n",
            "D5.jpg\n",
            "D92.jpg\n",
            "D78.jpg\n",
            "D84.jpg\n",
            "D12.jpg\n",
            "D100.jpg\n",
            "D64.jpg\n",
            "D1.jpg\n",
            "D22.jpg\n",
            "D16.jpg\n",
            "D95.jpg\n",
            "D50.jpg\n",
            "D25.jpg\n",
            "D10.jpg\n",
            "D28.jpg\n"
          ]
        }
      ],
      "source": [
        "for idx, class_name in enumerate(classes):\n",
        "    class_path = os.path.join(dataset_path, class_name)\n",
        "    if not os.path.exists(class_path):\n",
        "            print(f\"Directory not found: {class_path}\")\n",
        "\n",
        "    for filename in os.listdir(class_path):\n",
        "        image_path = os.path.join(class_path, filename)\n",
        "        print(filename)\n",
        "        image = tf.keras.preprocessing.image.load_img(image_path, target_size=input_shape[:2])\n",
        "        image = tf.keras.preprocessing.image.img_to_array(image)\n",
        "        image = tf.keras.applications.mobilenet_v2.preprocess_input(image)\n",
        "        data.append(image)\n",
        "        labels.append(idx)"
      ]
    },
    {
      "cell_type": "code",
      "source": [
        "for idx, class_name in enumerate(classes):  # Iterate over each class in the classes list\n",
        "    class_path = os.path.join(dataset_path, class_name)  # Construct the path to the directory containing images of the current class\n",
        "    for filename in os.listdir(class_path):  # Iterate over each image file in the class directory\n",
        "        image_path = os.path.join(class_path, filename)  # Construct the path to the current image file\n",
        "        image = tf.keras.preprocessing.image.load_img(image_path, target_size=input_shape[:2])  # Load the image and resize it to the target size\n",
        "        image = tf.keras.preprocessing.image.img_to_array(image)  # Convert the loaded image to a numpy array\n",
        "        image = tf.keras.applications.mobilenet_v2.preprocess_input(image)  # Preprocess the image array for MobileNetV2\n",
        "        data.append(image)  # Append the processed image array to the data list\n",
        "        labels.append(idx)  # Append the index of the class (acting as a label) to the labels list\n"
      ],
      "metadata": {
        "id": "7R2uE3yyPVAe"
      },
      "execution_count": 11,
      "outputs": []
    },
    {
      "cell_type": "code",
      "execution_count": 12,
      "metadata": {
        "id": "EshqDB9a0rrb"
      },
      "outputs": [],
      "source": [
        "data = np.array(data, dtype=\"float32\")\n",
        "labels = np.array(labels)"
      ]
    },
    {
      "cell_type": "code",
      "execution_count": 13,
      "metadata": {
        "id": "VPp3EkEdQ60Z"
      },
      "outputs": [],
      "source": [
        "trainX, testX, trainY, testY = train_test_split(data, labels, test_size=0.2, stratify=labels, random_state=42)"
      ]
    },
    {
      "cell_type": "code",
      "execution_count": 14,
      "metadata": {
        "id": "uyeyRm3T0215"
      },
      "outputs": [],
      "source": [
        "datagen = tf.keras.preprocessing.image.ImageDataGenerator(\n",
        "    rotation_range=20,\n",
        "    width_shift_range=0.1,\n",
        "    height_shift_range=0.1,\n",
        "    shear_range=0.2,\n",
        "    zoom_range=0.2,\n",
        "    horizontal_flip=True,\n",
        "    fill_mode='nearest')"
      ]
    },
    {
      "cell_type": "code",
      "execution_count": 15,
      "metadata": {
        "id": "OQqLXQ7qRBKs"
      },
      "outputs": [],
      "source": [
        "train_datagen = datagen.flow(trainX, trainY, batch_size=BS, shuffle=True)"
      ]
    },
    {
      "cell_type": "code",
      "source": [
        "from keras.applications import ResNet50"
      ],
      "metadata": {
        "id": "69um_oiZZl9L"
      },
      "execution_count": 17,
      "outputs": []
    },
    {
      "cell_type": "code",
      "execution_count": 18,
      "metadata": {
        "colab": {
          "base_uri": "https://localhost:8080/"
        },
        "id": "MmqSYh8_1N7s",
        "outputId": "39f53f05-458e-446d-9cd6-16bde7ec6d5a"
      },
      "outputs": [
        {
          "output_type": "stream",
          "name": "stdout",
          "text": [
            "Downloading data from https://storage.googleapis.com/tensorflow/keras-applications/resnet/resnet50_weights_tf_dim_ordering_tf_kernels_notop.h5\n",
            "94765736/94765736 [==============================] - 1s 0us/step\n"
          ]
        }
      ],
      "source": [
        "base_model = ResNet50(input_shape=input_shape, include_top=False, weights='imagenet')\n",
        "base_model.trainable = False"
      ]
    },
    {
      "cell_type": "code",
      "execution_count": 19,
      "metadata": {
        "colab": {
          "base_uri": "https://localhost:8080/"
        },
        "id": "wYh7DDzYyqA2",
        "outputId": "830285c3-e321-400e-8700-a51d58932b13"
      },
      "outputs": [
        {
          "output_type": "stream",
          "name": "stderr",
          "text": [
            "WARNING:absl:`lr` is deprecated in Keras optimizer, please use `learning_rate` or use the legacy optimizer, e.g.,tf.keras.optimizers.legacy.Adam.\n"
          ]
        }
      ],
      "source": [
        "model = Sequential([\n",
        "    base_model,\n",
        "    GlobalAveragePooling2D(),\n",
        "    Dense(256, activation='relu'),\n",
        "    Dropout(0.4),\n",
        "    Dense(len(classes), activation='softmax')\n",
        "])\n",
        "\n",
        "model.compile(optimizer=Adam(lr=1e-4), loss='sparse_categorical_crossentropy', metrics=['accuracy'])"
      ]
    },
    {
      "cell_type": "code",
      "execution_count": 20,
      "metadata": {
        "id": "zz1NP9lCt5It"
      },
      "outputs": [],
      "source": [
        "lr_scheduler = ReduceLROnPlateau(factor=0.5, patience=3, min_lr=1e-6)\n",
        "early_stopping = EarlyStopping(monitor='val_loss', patience=5, restore_best_weights=True)"
      ]
    },
    {
      "cell_type": "code",
      "execution_count": 21,
      "metadata": {
        "colab": {
          "base_uri": "https://localhost:8080/"
        },
        "id": "qtxpm97pRNrD",
        "outputId": "23644efd-fc5f-47bc-d673-f455543f8342"
      },
      "outputs": [
        {
          "output_type": "stream",
          "name": "stdout",
          "text": [
            "Epoch 1/50\n",
            "18/18 [==============================] - 26s 1s/step - loss: 1.1673 - accuracy: 0.3978 - val_loss: 1.1080 - val_accuracy: 0.4797 - lr: 0.0010\n",
            "Epoch 2/50\n",
            "18/18 [==============================] - 22s 1s/step - loss: 1.1241 - accuracy: 0.4158 - val_loss: 1.0157 - val_accuracy: 0.4797 - lr: 0.0010\n",
            "Epoch 3/50\n",
            "18/18 [==============================] - 20s 1s/step - loss: 1.0965 - accuracy: 0.4014 - val_loss: 1.0058 - val_accuracy: 0.5068 - lr: 0.0010\n",
            "Epoch 4/50\n",
            "18/18 [==============================] - 22s 1s/step - loss: 1.0347 - accuracy: 0.4462 - val_loss: 1.0201 - val_accuracy: 0.4595 - lr: 0.0010\n",
            "Epoch 5/50\n",
            "18/18 [==============================] - 21s 1s/step - loss: 1.0485 - accuracy: 0.4444 - val_loss: 0.9819 - val_accuracy: 0.5541 - lr: 0.0010\n",
            "Epoch 6/50\n",
            "18/18 [==============================] - 21s 1s/step - loss: 1.0392 - accuracy: 0.4498 - val_loss: 0.9806 - val_accuracy: 0.5405 - lr: 0.0010\n",
            "Epoch 7/50\n",
            "18/18 [==============================] - 21s 1s/step - loss: 0.9975 - accuracy: 0.5087 - val_loss: 0.9722 - val_accuracy: 0.5676 - lr: 0.0010\n",
            "Epoch 8/50\n",
            "18/18 [==============================] - 21s 1s/step - loss: 0.9846 - accuracy: 0.4875 - val_loss: 0.9678 - val_accuracy: 0.5743 - lr: 0.0010\n",
            "Epoch 9/50\n",
            "18/18 [==============================] - 22s 1s/step - loss: 0.9846 - accuracy: 0.5108 - val_loss: 0.9630 - val_accuracy: 0.5811 - lr: 0.0010\n",
            "Epoch 10/50\n",
            "18/18 [==============================] - 22s 1s/step - loss: 0.9933 - accuracy: 0.5000 - val_loss: 0.9539 - val_accuracy: 0.5473 - lr: 0.0010\n",
            "Epoch 11/50\n",
            "18/18 [==============================] - 20s 1s/step - loss: 0.9739 - accuracy: 0.5054 - val_loss: 0.9561 - val_accuracy: 0.5135 - lr: 0.0010\n",
            "Epoch 12/50\n",
            "18/18 [==============================] - 21s 1s/step - loss: 0.9680 - accuracy: 0.5215 - val_loss: 0.9293 - val_accuracy: 0.5946 - lr: 0.0010\n",
            "Epoch 13/50\n",
            "18/18 [==============================] - 21s 1s/step - loss: 0.9843 - accuracy: 0.5394 - val_loss: 0.9534 - val_accuracy: 0.5203 - lr: 0.0010\n",
            "Epoch 14/50\n",
            "18/18 [==============================] - 22s 1s/step - loss: 0.9925 - accuracy: 0.5018 - val_loss: 0.9223 - val_accuracy: 0.6081 - lr: 0.0010\n",
            "Epoch 15/50\n",
            "18/18 [==============================] - 22s 1s/step - loss: 0.9592 - accuracy: 0.5278 - val_loss: 0.9226 - val_accuracy: 0.5878 - lr: 0.0010\n",
            "Epoch 16/50\n",
            "18/18 [==============================] - 21s 1s/step - loss: 0.9352 - accuracy: 0.5394 - val_loss: 0.9318 - val_accuracy: 0.5338 - lr: 0.0010\n",
            "Epoch 17/50\n",
            "18/18 [==============================] - 22s 1s/step - loss: 0.9577 - accuracy: 0.5341 - val_loss: 0.9304 - val_accuracy: 0.5135 - lr: 0.0010\n",
            "Epoch 18/50\n",
            "18/18 [==============================] - 21s 1s/step - loss: 0.9558 - accuracy: 0.5305 - val_loss: 0.9058 - val_accuracy: 0.6149 - lr: 5.0000e-04\n",
            "Epoch 19/50\n",
            "18/18 [==============================] - 22s 1s/step - loss: 0.9554 - accuracy: 0.5430 - val_loss: 0.9099 - val_accuracy: 0.6014 - lr: 5.0000e-04\n",
            "Epoch 20/50\n",
            "18/18 [==============================] - 22s 1s/step - loss: 0.9359 - accuracy: 0.5448 - val_loss: 0.9004 - val_accuracy: 0.6149 - lr: 5.0000e-04\n",
            "Epoch 21/50\n",
            "18/18 [==============================] - 23s 1s/step - loss: 0.9346 - accuracy: 0.5305 - val_loss: 0.9084 - val_accuracy: 0.5743 - lr: 5.0000e-04\n",
            "Epoch 22/50\n",
            "18/18 [==============================] - 22s 1s/step - loss: 0.9154 - accuracy: 0.5677 - val_loss: 0.9083 - val_accuracy: 0.5811 - lr: 5.0000e-04\n",
            "Epoch 23/50\n",
            "18/18 [==============================] - 21s 1s/step - loss: 0.9494 - accuracy: 0.5430 - val_loss: 0.8997 - val_accuracy: 0.5811 - lr: 5.0000e-04\n",
            "Epoch 24/50\n",
            "18/18 [==============================] - 22s 1s/step - loss: 0.9403 - accuracy: 0.5448 - val_loss: 0.8953 - val_accuracy: 0.6081 - lr: 5.0000e-04\n",
            "Epoch 25/50\n",
            "18/18 [==============================] - 22s 1s/step - loss: 0.9264 - accuracy: 0.5448 - val_loss: 0.8872 - val_accuracy: 0.5946 - lr: 5.0000e-04\n",
            "Epoch 26/50\n",
            "18/18 [==============================] - 21s 1s/step - loss: 0.9416 - accuracy: 0.5341 - val_loss: 0.8904 - val_accuracy: 0.6081 - lr: 5.0000e-04\n",
            "Epoch 27/50\n",
            "18/18 [==============================] - 21s 1s/step - loss: 0.9108 - accuracy: 0.5860 - val_loss: 0.8961 - val_accuracy: 0.6216 - lr: 5.0000e-04\n",
            "Epoch 28/50\n",
            "18/18 [==============================] - 22s 1s/step - loss: 0.9338 - accuracy: 0.5412 - val_loss: 0.8802 - val_accuracy: 0.5946 - lr: 5.0000e-04\n",
            "Epoch 29/50\n",
            "18/18 [==============================] - 23s 1s/step - loss: 0.9190 - accuracy: 0.5573 - val_loss: 0.8880 - val_accuracy: 0.5473 - lr: 5.0000e-04\n",
            "Epoch 30/50\n",
            "18/18 [==============================] - 22s 1s/step - loss: 0.9246 - accuracy: 0.5417 - val_loss: 0.8825 - val_accuracy: 0.6216 - lr: 5.0000e-04\n",
            "Epoch 31/50\n",
            "18/18 [==============================] - 22s 1s/step - loss: 0.8943 - accuracy: 0.5753 - val_loss: 0.8719 - val_accuracy: 0.5743 - lr: 5.0000e-04\n",
            "Epoch 32/50\n",
            "18/18 [==============================] - 21s 1s/step - loss: 0.9177 - accuracy: 0.5502 - val_loss: 0.8731 - val_accuracy: 0.5811 - lr: 5.0000e-04\n",
            "Epoch 33/50\n",
            "18/18 [==============================] - 21s 1s/step - loss: 0.9052 - accuracy: 0.5717 - val_loss: 0.8750 - val_accuracy: 0.6216 - lr: 5.0000e-04\n",
            "Epoch 34/50\n",
            "18/18 [==============================] - 23s 1s/step - loss: 0.8989 - accuracy: 0.5753 - val_loss: 0.8804 - val_accuracy: 0.6014 - lr: 5.0000e-04\n",
            "Epoch 35/50\n",
            "18/18 [==============================] - 21s 1s/step - loss: 0.8932 - accuracy: 0.5699 - val_loss: 0.8759 - val_accuracy: 0.6149 - lr: 2.5000e-04\n",
            "Epoch 36/50\n",
            "18/18 [==============================] - 21s 1s/step - loss: 0.9193 - accuracy: 0.5502 - val_loss: 0.8708 - val_accuracy: 0.6014 - lr: 2.5000e-04\n",
            "Epoch 37/50\n",
            "18/18 [==============================] - 20s 1s/step - loss: 0.9222 - accuracy: 0.5305 - val_loss: 0.8700 - val_accuracy: 0.5878 - lr: 2.5000e-04\n",
            "Epoch 38/50\n",
            "18/18 [==============================] - 22s 1s/step - loss: 0.9009 - accuracy: 0.5573 - val_loss: 0.8679 - val_accuracy: 0.5743 - lr: 2.5000e-04\n",
            "Epoch 39/50\n",
            "18/18 [==============================] - 21s 1s/step - loss: 0.9134 - accuracy: 0.5538 - val_loss: 0.8718 - val_accuracy: 0.5608 - lr: 2.5000e-04\n",
            "Epoch 40/50\n",
            "18/18 [==============================] - 22s 1s/step - loss: 0.9000 - accuracy: 0.5789 - val_loss: 0.8674 - val_accuracy: 0.5743 - lr: 2.5000e-04\n",
            "Epoch 41/50\n",
            "18/18 [==============================] - 21s 1s/step - loss: 0.9096 - accuracy: 0.5609 - val_loss: 0.8678 - val_accuracy: 0.6081 - lr: 2.5000e-04\n",
            "Epoch 42/50\n",
            "18/18 [==============================] - 21s 1s/step - loss: 0.8710 - accuracy: 0.5968 - val_loss: 0.8681 - val_accuracy: 0.6081 - lr: 2.5000e-04\n",
            "Epoch 43/50\n",
            "18/18 [==============================] - 20s 1s/step - loss: 0.9063 - accuracy: 0.5717 - val_loss: 0.8658 - val_accuracy: 0.5811 - lr: 2.5000e-04\n",
            "Epoch 44/50\n",
            "18/18 [==============================] - 21s 1s/step - loss: 0.8717 - accuracy: 0.6075 - val_loss: 0.8613 - val_accuracy: 0.5743 - lr: 2.5000e-04\n",
            "Epoch 45/50\n",
            "18/18 [==============================] - 23s 1s/step - loss: 0.8918 - accuracy: 0.5538 - val_loss: 0.8590 - val_accuracy: 0.5608 - lr: 2.5000e-04\n",
            "Epoch 46/50\n",
            "18/18 [==============================] - 22s 1s/step - loss: 0.8799 - accuracy: 0.5538 - val_loss: 0.8648 - val_accuracy: 0.5946 - lr: 2.5000e-04\n",
            "Epoch 47/50\n",
            "18/18 [==============================] - 22s 1s/step - loss: 0.8793 - accuracy: 0.5430 - val_loss: 0.8606 - val_accuracy: 0.5541 - lr: 2.5000e-04\n",
            "Epoch 48/50\n",
            "18/18 [==============================] - 21s 1s/step - loss: 0.8922 - accuracy: 0.5932 - val_loss: 0.8593 - val_accuracy: 0.5541 - lr: 2.5000e-04\n",
            "Epoch 49/50\n",
            "18/18 [==============================] - 22s 1s/step - loss: 0.8918 - accuracy: 0.5699 - val_loss: 0.8578 - val_accuracy: 0.5541 - lr: 1.2500e-04\n",
            "Epoch 50/50\n",
            "18/18 [==============================] - 22s 1s/step - loss: 0.8882 - accuracy: 0.5789 - val_loss: 0.8580 - val_accuracy: 0.5541 - lr: 1.2500e-04\n"
          ]
        }
      ],
      "source": [
        "history = model.fit(\n",
        "    train_datagen,\n",
        "    steps_per_epoch=len(trainX) // BS,\n",
        "    validation_data=(testX, testY),\n",
        "    validation_steps=len(testX) // BS,\n",
        "    epochs=EPOCHS,\n",
        "    callbacks=[lr_scheduler, early_stopping]  # Add both callbacks\n",
        ")"
      ]
    },
    {
      "cell_type": "code",
      "execution_count": 22,
      "metadata": {
        "colab": {
          "base_uri": "https://localhost:8080/",
          "height": 452
        },
        "id": "iCO19CAJRZs_",
        "outputId": "f3a0bec0-ad5a-4bcb-ba73-bf7b0ebc6ffd"
      },
      "outputs": [
        {
          "output_type": "display_data",
          "data": {
            "text/plain": [
              "<Figure size 640x480 with 1 Axes>"
            ],
            "image/png": "[encoded data removed]"
          },
          "metadata": {}
        }
      ],
      "source": [
        "plt.plot(history.history['loss'], label='train_loss')\n",
        "plt.plot(history.history['val_loss'], label='val_loss')\n",
        "plt.plot(history.history['accuracy'], label='train_acc')\n",
        "plt.plot(history.history['val_accuracy'], label='val_acc')\n",
        "plt.legend()\n",
        "plt.xlabel(\"Epoch\")\n",
        "plt.ylabel(\"Loss/Accuracy\")\n",
        "plt.show()"
      ]
    },
    {
      "cell_type": "code",
      "execution_count": 23,
      "metadata": {
        "colab": {
          "base_uri": "https://localhost:8080/"
        },
        "id": "RF6Bhu7d1P-L",
        "outputId": "18e16b2e-bb4e-4f94-88d2-69d6389c8d39"
      },
      "outputs": [
        {
          "output_type": "stream",
          "name": "stdout",
          "text": [
            "5/5 [==============================] - 6s 943ms/step\n",
            "Confusion Matrix:\n",
            "[[12 23  5]\n",
            " [15 47  6]\n",
            " [ 4 13 23]]\n",
            "Classification Report:\n",
            "              precision    recall  f1-score   support\n",
            "\n",
            "  Fair_light       0.39      0.30      0.34        40\n",
            " Medium_tane       0.57      0.69      0.62        68\n",
            "   Dark_deep       0.68      0.57      0.62        40\n",
            "\n",
            "    accuracy                           0.55       148\n",
            "   macro avg       0.54      0.52      0.53       148\n",
            "weighted avg       0.55      0.55      0.55       148\n",
            "\n"
          ]
        }
      ],
      "source": [
        "preds = model.predict(testX)\n",
        "y_pred = np.argmax(preds, axis=1)\n",
        "\n",
        "cm = confusion_matrix(testY, y_pred)\n",
        "print(\"Confusion Matrix:\")\n",
        "print(cm)\n",
        "\n",
        "print(\"Classification Report:\")\n",
        "print(classification_report(testY, y_pred, target_names=classes))"
      ]
    },
    {
      "cell_type": "code",
      "execution_count": 24,
      "metadata": {
        "colab": {
          "base_uri": "https://localhost:8080/"
        },
        "id": "N5UIM1bc4aZr",
        "outputId": "77279cec-66e1-497b-dbc7-3a97d1ad4410"
      },
      "outputs": [
        {
          "output_type": "stream",
          "name": "stderr",
          "text": [
            "/usr/local/lib/python3.10/dist-packages/keras/src/engine/training.py:3103: UserWarning: You are saving your model as an HDF5 file via `model.save()`. This file format is considered legacy. We recommend using instead the native Keras format, e.g. `model.save('my_model.keras')`.\n",
            "  saving_api.save_model(\n"
          ]
        },
        {
          "output_type": "stream",
          "name": "stdout",
          "text": [
            "Model saved.\n"
          ]
        }
      ],
      "source": [
        "model.save('/content/drive/MyDrive/AI4ALL/Skin Tone Prediction/model1.h5')\n",
        "print(\"Model saved.\")"
      ]
    }
  ],
  "metadata": {
    "colab": {
      "provenance": [],
      "include_colab_link": true
    },
    "kernelspec": {
      "display_name": "Python 3",
      "name": "python3"
    },
    "language_info": {
      "name": "python"
    }
  },
  "nbformat": 4,
  "nbformat_minor": 0
}